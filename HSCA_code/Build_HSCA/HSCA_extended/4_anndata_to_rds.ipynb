{
 "cells": [
  {
   "cell_type": "markdown",
   "id": "66fe6f3b",
   "metadata": {},
   "source": [
    "This notebook saves the relevant information from the **HSCA extended** Anndata file after transfer learning, allowing it to be exported later as an **RDS file** for further analysis of the HSCA extended in **R**."
   ]
  },
  {
   "cell_type": "code",
   "execution_count": null,
   "id": "6cee6027",
   "metadata": {},
   "outputs": [],
   "source": [
    "from scipy import io\n",
    "import pandas as pd\n",
    "import os\n",
    "import anndata\n",
    "import scanpy as sc\n",
    "import numpy as np"
   ]
  },
  {
   "cell_type": "code",
   "execution_count": null,
   "id": "fed0f312",
   "metadata": {},
   "outputs": [],
   "source": [
    "os.chdir(\"/data/projects/Bioinformatics/human_skin_cell_atlas/scripts\")"
   ]
  },
  {
   "cell_type": "markdown",
   "id": "360d4635",
   "metadata": {},
   "source": [
    "**Note:** Cell numbers here differ from the final HSCA extended, as de novo annotation and integration guided by label transfer uncertainties in **R** reveal low-quality cells that were not detectable during standalone preprocessing."
   ]
  },
  {
   "cell_type": "code",
   "execution_count": 3,
   "id": "9da75930",
   "metadata": {},
   "outputs": [
    {
     "data": {
      "text/plain": [
       "AnnData object with n_obs × n_vars = 900321 × 48905\n",
       "    obs: 'orig.ident', 'nCount_RNA', 'nFeature_RNA', 'sample', 'subject_ID', 'age_years', 'age_range', 'sex', 'ethnicity', 'anatomical_region_level1', 'anatomical_region_level2', 'anatomical_region_level3', 'sequencing_platform', 'reference_genome_compact', 'cell_ranger_version_compact', 'single_cell_platform', 'tissue_sampling_type', 'Accession_source', 'Dataset', 'Condition', 'Core', 'percent_mito', 'soup_group', 'nCount_original.counts', 'nFeature_original.counts', 'scDblFinder.class', 'genes', 'RNA_snn_res.1.2', 'seurat_clusters', 'orig_celltype_lvl_3', 'RNA_snn_res.0.8', 'RNA_snn_res.1.6', 'fresh_or_frozen', 'RNA_snn_res.1.8', 'RNA_snn_res.1.5', 'seurat_clusters_full', 'RNA_snn_res.2', 'inherited_celltype_lvl_1', 'inherited_celltype_lvl_2', 'inherited_celltype_lvl_3', 'inherited_celltype_lvl_4', 'inherited_celltype_lvl_5', 'barcode', 'UMAP_1', 'UMAP_2', 'celltype_lvl_1', 'celltype_lvl_2', 'celltype_lvl_3', 'celltype_lvl_4', 'celltype_lvl_5', 'inherited_celltype_lvl_1_transferred_label_unfiltered', 'inherited_celltype_lvl_2_transferred_label_unfiltered', 'inherited_celltype_lvl_3_transferred_label_unfiltered', 'inherited_celltype_lvl_4_transferred_label_unfiltered', 'inherited_celltype_lvl_5_transferred_label_unfiltered', 'inherited_celltype_lvl_1_transfer_uncert', 'inherited_celltype_lvl_2_transfer_uncert', 'inherited_celltype_lvl_3_transfer_uncert', 'inherited_celltype_lvl_4_transfer_uncert', 'inherited_celltype_lvl_5_transfer_uncert', 'inherited_celltype_lvl_1_transferred_label', 'inherited_celltype_lvl_2_transferred_label', 'inherited_celltype_lvl_3_transferred_label', 'inherited_celltype_lvl_4_transferred_label', 'inherited_celltype_lvl_5_transferred_label'\n",
       "    var: 'highly_variable'\n",
       "    uns: 'celltype_lvl_5_colors', 'inherited_celltype_lvl_4_colors'\n",
       "    obsm: 'X_pca', 'X_pca_scvi', 'X_scvi_emb', 'X_umap'\n",
       "    layers: 'counts', 'norm'"
      ]
     },
     "execution_count": 3,
     "metadata": {},
     "output_type": "execute_result"
    }
   ],
   "source": [
    "adata = sc.read(\"./scarches_output/HSCA/SCVI/HSCA_extended/atlas_with_uncerts.h5ad\")\n",
    "adata"
   ]
  },
  {
   "cell_type": "code",
   "execution_count": 4,
   "id": "ee9f12a9",
   "metadata": {},
   "outputs": [],
   "source": [
    "os.chdir(\"/data/projects/Bioinformatics/human single cell skin atlas/scripts/atlas_seurat_output\")"
   ]
  },
  {
   "cell_type": "code",
   "execution_count": 18,
   "id": "34ffb75e",
   "metadata": {},
   "outputs": [],
   "source": [
    "!mkdir matrix_files"
   ]
  },
  {
   "cell_type": "code",
   "execution_count": 5,
   "id": "98ac4ad3",
   "metadata": {},
   "outputs": [
    {
     "data": {
      "text/plain": [
       "AnnData object with n_obs × n_vars = 900321 × 48905\n",
       "    obs: 'orig.ident', 'nCount_RNA', 'nFeature_RNA', 'sample', 'subject_ID', 'age_years', 'age_range', 'sex', 'ethnicity', 'anatomical_region_level1', 'anatomical_region_level2', 'anatomical_region_level3', 'sequencing_platform', 'reference_genome_compact', 'cell_ranger_version_compact', 'single_cell_platform', 'tissue_sampling_type', 'Accession_source', 'Dataset', 'Condition', 'Core', 'percent_mito', 'soup_group', 'nCount_original.counts', 'nFeature_original.counts', 'scDblFinder.class', 'genes', 'RNA_snn_res.1.2', 'seurat_clusters', 'orig_celltype_lvl_3', 'RNA_snn_res.0.8', 'RNA_snn_res.1.6', 'fresh_or_frozen', 'RNA_snn_res.1.8', 'RNA_snn_res.1.5', 'seurat_clusters_full', 'RNA_snn_res.2', 'inherited_celltype_lvl_1', 'inherited_celltype_lvl_2', 'inherited_celltype_lvl_3', 'inherited_celltype_lvl_4', 'inherited_celltype_lvl_5', 'barcode', 'UMAP_1', 'UMAP_2', 'celltype_lvl_1', 'celltype_lvl_2', 'celltype_lvl_3', 'celltype_lvl_4', 'celltype_lvl_5', 'inherited_celltype_lvl_1_transferred_label_unfiltered', 'inherited_celltype_lvl_2_transferred_label_unfiltered', 'inherited_celltype_lvl_3_transferred_label_unfiltered', 'inherited_celltype_lvl_4_transferred_label_unfiltered', 'inherited_celltype_lvl_5_transferred_label_unfiltered', 'inherited_celltype_lvl_1_transfer_uncert', 'inherited_celltype_lvl_2_transfer_uncert', 'inherited_celltype_lvl_3_transfer_uncert', 'inherited_celltype_lvl_4_transfer_uncert', 'inherited_celltype_lvl_5_transfer_uncert', 'inherited_celltype_lvl_1_transferred_label', 'inherited_celltype_lvl_2_transferred_label', 'inherited_celltype_lvl_3_transferred_label', 'inherited_celltype_lvl_4_transferred_label', 'inherited_celltype_lvl_5_transferred_label'\n",
       "    var: 'highly_variable'\n",
       "    uns: 'celltype_lvl_5_colors', 'inherited_celltype_lvl_4_colors'\n",
       "    obsm: 'X_pca', 'X_pca_scvi', 'X_scvi_emb', 'X_umap'\n",
       "    layers: 'counts', 'norm'"
      ]
     },
     "execution_count": 5,
     "metadata": {},
     "output_type": "execute_result"
    }
   ],
   "source": [
    "adata"
   ]
  },
  {
   "cell_type": "code",
   "execution_count": null,
   "id": "963587fa",
   "metadata": {},
   "outputs": [],
   "source": [
    "np.max(adata.X)"
   ]
  },
  {
   "cell_type": "code",
   "execution_count": null,
   "id": "f4313d73",
   "metadata": {},
   "outputs": [
    {
     "data": {
      "text/plain": [
       "125537"
      ]
     },
     "execution_count": 22,
     "metadata": {},
     "output_type": "execute_result"
    }
   ],
   "source": [
    "np.max(adata.layers[\"counts\"])"
   ]
  },
  {
   "cell_type": "code",
   "execution_count": 8,
   "id": "1ce9b556",
   "metadata": {},
   "outputs": [],
   "source": [
    "with open('matrix_files/barcodes.tsv', 'w') as f:\n",
    "    for item in adata.obs_names:\n",
    "        f.write(item + '\\n')"
   ]
  },
  {
   "cell_type": "code",
   "execution_count": 9,
   "id": "7ec14e57",
   "metadata": {},
   "outputs": [],
   "source": [
    "with open('matrix_files/features.tsv', 'w') as f:\n",
    "    for item in ['\\t'.join([x,x,'Gene Expression']) for x in adata.var_names]:\n",
    "        f.write(item + '\\n')"
   ]
  },
  {
   "cell_type": "code",
   "execution_count": null,
   "id": "950eff7d",
   "metadata": {},
   "outputs": [],
   "source": [
    "io.mmwrite('matrix_files/matrix', adata.layers[\"counts\"].T)"
   ]
  },
  {
   "cell_type": "code",
   "execution_count": null,
   "id": "848c6eca",
   "metadata": {},
   "outputs": [
    {
     "name": "stdout",
     "output_type": "stream",
     "text": [
      "barcodes.tsv  features.tsv  matrix.mtx\n"
     ]
    }
   ],
   "source": [
    "!ls matrix_files/"
   ]
  },
  {
   "cell_type": "code",
   "execution_count": null,
   "id": "8a35172b",
   "metadata": {},
   "outputs": [],
   "source": [
    "!gzip matrix_files/*"
   ]
  },
  {
   "cell_type": "code",
   "execution_count": null,
   "id": "b97f4437",
   "metadata": {},
   "outputs": [
    {
     "name": "stdout",
     "output_type": "stream",
     "text": [
      "barcodes.tsv.gz  features.tsv.gz  matrix.mtx.gz\n"
     ]
    }
   ],
   "source": [
    "!ls matrix_files/"
   ]
  },
  {
   "cell_type": "code",
   "execution_count": null,
   "id": "07c83cdd",
   "metadata": {},
   "outputs": [],
   "source": [
    "adata.obs.to_csv('metadata.csv')"
   ]
  },
  {
   "cell_type": "code",
   "execution_count": 15,
   "id": "ca9ac462",
   "metadata": {},
   "outputs": [
    {
     "data": {
      "text/plain": [
       "array([[ 0.08039778,  0.1574584 ,  0.8148092 , ...,  0.87250125,\n",
       "        -0.7238407 ,  1.6856034 ],\n",
       "       [-1.185399  ,  0.20160827, -0.9421859 , ...,  0.17223558,\n",
       "         0.24679837, -1.0805833 ],\n",
       "       [ 0.42882103,  0.18065396, -0.6045707 , ...,  0.5154194 ,\n",
       "        -1.8228576 ,  0.01332785],\n",
       "       ...,\n",
       "       [ 0.37651467, -0.8964641 , -1.4499615 , ...,  0.09810773,\n",
       "        -0.6619447 ,  1.8233206 ],\n",
       "       [-0.2672233 , -1.8265716 , -0.09668534, ..., -2.5268192 ,\n",
       "        -0.3920045 ,  1.1951497 ],\n",
       "       [ 0.38987154, -0.1339483 , -0.08489776, ...,  1.2982671 ,\n",
       "         2.1678464 , -0.9686131 ]], dtype=float32)"
      ]
     },
     "execution_count": 15,
     "metadata": {},
     "output_type": "execute_result"
    }
   ],
   "source": [
    "adata.obsm[\"X_scvi_emb\"]"
   ]
  },
  {
   "cell_type": "code",
   "execution_count": null,
   "id": "0d96890e",
   "metadata": {},
   "outputs": [
    {
     "data": {
      "text/html": [
       "<div>\n",
       "<style scoped>\n",
       "    .dataframe tbody tr th:only-of-type {\n",
       "        vertical-align: middle;\n",
       "    }\n",
       "\n",
       "    .dataframe tbody tr th {\n",
       "        vertical-align: top;\n",
       "    }\n",
       "\n",
       "    .dataframe thead th {\n",
       "        text-align: right;\n",
       "    }\n",
       "</style>\n",
       "<table border=\"1\" class=\"dataframe\">\n",
       "  <thead>\n",
       "    <tr style=\"text-align: right;\">\n",
       "      <th></th>\n",
       "      <th>0</th>\n",
       "      <th>1</th>\n",
       "      <th>2</th>\n",
       "      <th>3</th>\n",
       "      <th>4</th>\n",
       "      <th>5</th>\n",
       "      <th>6</th>\n",
       "      <th>7</th>\n",
       "      <th>8</th>\n",
       "      <th>9</th>\n",
       "    </tr>\n",
       "    <tr>\n",
       "      <th>barcode</th>\n",
       "      <th></th>\n",
       "      <th></th>\n",
       "      <th></th>\n",
       "      <th></th>\n",
       "      <th></th>\n",
       "      <th></th>\n",
       "      <th></th>\n",
       "      <th></th>\n",
       "      <th></th>\n",
       "      <th></th>\n",
       "    </tr>\n",
       "  </thead>\n",
       "  <tbody>\n",
       "    <tr>\n",
       "      <th>HRS118996_AAACCTGAGCGATATA-1</th>\n",
       "      <td>0.080398</td>\n",
       "      <td>0.157458</td>\n",
       "      <td>0.814809</td>\n",
       "      <td>1.555954</td>\n",
       "      <td>0.415151</td>\n",
       "      <td>0.485750</td>\n",
       "      <td>-1.817345</td>\n",
       "      <td>0.872501</td>\n",
       "      <td>-0.723841</td>\n",
       "      <td>1.685603</td>\n",
       "    </tr>\n",
       "    <tr>\n",
       "      <th>HRS118996_AAACCTGCAAGGTTTC-1</th>\n",
       "      <td>-1.185399</td>\n",
       "      <td>0.201608</td>\n",
       "      <td>-0.942186</td>\n",
       "      <td>0.355930</td>\n",
       "      <td>-0.054668</td>\n",
       "      <td>-0.863082</td>\n",
       "      <td>0.068611</td>\n",
       "      <td>0.172236</td>\n",
       "      <td>0.246798</td>\n",
       "      <td>-1.080583</td>\n",
       "    </tr>\n",
       "    <tr>\n",
       "      <th>HRS118996_AAACCTGCACAGTCGC-1</th>\n",
       "      <td>0.428821</td>\n",
       "      <td>0.180654</td>\n",
       "      <td>-0.604571</td>\n",
       "      <td>0.372192</td>\n",
       "      <td>-0.759331</td>\n",
       "      <td>-0.852488</td>\n",
       "      <td>-0.157817</td>\n",
       "      <td>0.515419</td>\n",
       "      <td>-1.822858</td>\n",
       "      <td>0.013328</td>\n",
       "    </tr>\n",
       "    <tr>\n",
       "      <th>HRS118996_AAACCTGCATCACCCT-1</th>\n",
       "      <td>0.258077</td>\n",
       "      <td>-2.235218</td>\n",
       "      <td>0.225615</td>\n",
       "      <td>0.160601</td>\n",
       "      <td>-0.628965</td>\n",
       "      <td>-0.885455</td>\n",
       "      <td>1.893266</td>\n",
       "      <td>1.335566</td>\n",
       "      <td>0.226430</td>\n",
       "      <td>-0.741456</td>\n",
       "    </tr>\n",
       "    <tr>\n",
       "      <th>HRS118996_AAACCTGCATGCATGT-1</th>\n",
       "      <td>-0.761781</td>\n",
       "      <td>1.213483</td>\n",
       "      <td>0.069246</td>\n",
       "      <td>-2.235992</td>\n",
       "      <td>-1.022571</td>\n",
       "      <td>2.190440</td>\n",
       "      <td>-0.434807</td>\n",
       "      <td>0.019359</td>\n",
       "      <td>0.515292</td>\n",
       "      <td>-0.565891</td>\n",
       "    </tr>\n",
       "    <tr>\n",
       "      <th>...</th>\n",
       "      <td>...</td>\n",
       "      <td>...</td>\n",
       "      <td>...</td>\n",
       "      <td>...</td>\n",
       "      <td>...</td>\n",
       "      <td>...</td>\n",
       "      <td>...</td>\n",
       "      <td>...</td>\n",
       "      <td>...</td>\n",
       "      <td>...</td>\n",
       "    </tr>\n",
       "    <tr>\n",
       "      <th>EMTAB13084_1_WS_SKN_KCL10525741_TTTGTTGGTGTCCGTG-1</th>\n",
       "      <td>0.654932</td>\n",
       "      <td>-0.914868</td>\n",
       "      <td>-1.395637</td>\n",
       "      <td>-0.338357</td>\n",
       "      <td>1.116864</td>\n",
       "      <td>-0.167566</td>\n",
       "      <td>0.781047</td>\n",
       "      <td>-0.518363</td>\n",
       "      <td>1.531658</td>\n",
       "      <td>1.582730</td>\n",
       "    </tr>\n",
       "    <tr>\n",
       "      <th>EMTAB13084_1_WS_SKN_KCL10525741_TTTGTTGGTGTGTGGA-1</th>\n",
       "      <td>1.577358</td>\n",
       "      <td>-0.661898</td>\n",
       "      <td>-1.478666</td>\n",
       "      <td>0.052076</td>\n",
       "      <td>1.315349</td>\n",
       "      <td>-0.466588</td>\n",
       "      <td>0.140877</td>\n",
       "      <td>0.387793</td>\n",
       "      <td>1.111544</td>\n",
       "      <td>1.466529</td>\n",
       "    </tr>\n",
       "    <tr>\n",
       "      <th>EMTAB13084_1_WS_SKN_KCL10525741_TTTGTTGGTTGCGGAA-1</th>\n",
       "      <td>0.376515</td>\n",
       "      <td>-0.896464</td>\n",
       "      <td>-1.449962</td>\n",
       "      <td>-0.362395</td>\n",
       "      <td>1.200107</td>\n",
       "      <td>0.476014</td>\n",
       "      <td>1.044285</td>\n",
       "      <td>0.098108</td>\n",
       "      <td>-0.661945</td>\n",
       "      <td>1.823321</td>\n",
       "    </tr>\n",
       "    <tr>\n",
       "      <th>EMTAB13084_1_WS_SKN_KCL10525741_TTTGTTGTCGCATTAG-1</th>\n",
       "      <td>-0.267223</td>\n",
       "      <td>-1.826572</td>\n",
       "      <td>-0.096685</td>\n",
       "      <td>-0.495930</td>\n",
       "      <td>-1.413955</td>\n",
       "      <td>0.198055</td>\n",
       "      <td>0.457041</td>\n",
       "      <td>-2.526819</td>\n",
       "      <td>-0.392004</td>\n",
       "      <td>1.195150</td>\n",
       "    </tr>\n",
       "    <tr>\n",
       "      <th>EMTAB13084_1_WS_SKN_KCL10525741_TTTGTTGTCTATACGG-1</th>\n",
       "      <td>0.389872</td>\n",
       "      <td>-0.133948</td>\n",
       "      <td>-0.084898</td>\n",
       "      <td>-1.117339</td>\n",
       "      <td>1.214352</td>\n",
       "      <td>-0.056293</td>\n",
       "      <td>0.702446</td>\n",
       "      <td>1.298267</td>\n",
       "      <td>2.167846</td>\n",
       "      <td>-0.968613</td>\n",
       "    </tr>\n",
       "  </tbody>\n",
       "</table>\n",
       "<p>900321 rows × 10 columns</p>\n",
       "</div>"
      ],
      "text/plain": [
       "                                                           0         1  \\\n",
       "barcode                                                                  \n",
       "HRS118996_AAACCTGAGCGATATA-1                        0.080398  0.157458   \n",
       "HRS118996_AAACCTGCAAGGTTTC-1                       -1.185399  0.201608   \n",
       "HRS118996_AAACCTGCACAGTCGC-1                        0.428821  0.180654   \n",
       "HRS118996_AAACCTGCATCACCCT-1                        0.258077 -2.235218   \n",
       "HRS118996_AAACCTGCATGCATGT-1                       -0.761781  1.213483   \n",
       "...                                                      ...       ...   \n",
       "EMTAB13084_1_WS_SKN_KCL10525741_TTTGTTGGTGTCCGTG-1  0.654932 -0.914868   \n",
       "EMTAB13084_1_WS_SKN_KCL10525741_TTTGTTGGTGTGTGGA-1  1.577358 -0.661898   \n",
       "EMTAB13084_1_WS_SKN_KCL10525741_TTTGTTGGTTGCGGAA-1  0.376515 -0.896464   \n",
       "EMTAB13084_1_WS_SKN_KCL10525741_TTTGTTGTCGCATTAG-1 -0.267223 -1.826572   \n",
       "EMTAB13084_1_WS_SKN_KCL10525741_TTTGTTGTCTATACGG-1  0.389872 -0.133948   \n",
       "\n",
       "                                                           2         3  \\\n",
       "barcode                                                                  \n",
       "HRS118996_AAACCTGAGCGATATA-1                        0.814809  1.555954   \n",
       "HRS118996_AAACCTGCAAGGTTTC-1                       -0.942186  0.355930   \n",
       "HRS118996_AAACCTGCACAGTCGC-1                       -0.604571  0.372192   \n",
       "HRS118996_AAACCTGCATCACCCT-1                        0.225615  0.160601   \n",
       "HRS118996_AAACCTGCATGCATGT-1                        0.069246 -2.235992   \n",
       "...                                                      ...       ...   \n",
       "EMTAB13084_1_WS_SKN_KCL10525741_TTTGTTGGTGTCCGTG-1 -1.395637 -0.338357   \n",
       "EMTAB13084_1_WS_SKN_KCL10525741_TTTGTTGGTGTGTGGA-1 -1.478666  0.052076   \n",
       "EMTAB13084_1_WS_SKN_KCL10525741_TTTGTTGGTTGCGGAA-1 -1.449962 -0.362395   \n",
       "EMTAB13084_1_WS_SKN_KCL10525741_TTTGTTGTCGCATTAG-1 -0.096685 -0.495930   \n",
       "EMTAB13084_1_WS_SKN_KCL10525741_TTTGTTGTCTATACGG-1 -0.084898 -1.117339   \n",
       "\n",
       "                                                           4         5  \\\n",
       "barcode                                                                  \n",
       "HRS118996_AAACCTGAGCGATATA-1                        0.415151  0.485750   \n",
       "HRS118996_AAACCTGCAAGGTTTC-1                       -0.054668 -0.863082   \n",
       "HRS118996_AAACCTGCACAGTCGC-1                       -0.759331 -0.852488   \n",
       "HRS118996_AAACCTGCATCACCCT-1                       -0.628965 -0.885455   \n",
       "HRS118996_AAACCTGCATGCATGT-1                       -1.022571  2.190440   \n",
       "...                                                      ...       ...   \n",
       "EMTAB13084_1_WS_SKN_KCL10525741_TTTGTTGGTGTCCGTG-1  1.116864 -0.167566   \n",
       "EMTAB13084_1_WS_SKN_KCL10525741_TTTGTTGGTGTGTGGA-1  1.315349 -0.466588   \n",
       "EMTAB13084_1_WS_SKN_KCL10525741_TTTGTTGGTTGCGGAA-1  1.200107  0.476014   \n",
       "EMTAB13084_1_WS_SKN_KCL10525741_TTTGTTGTCGCATTAG-1 -1.413955  0.198055   \n",
       "EMTAB13084_1_WS_SKN_KCL10525741_TTTGTTGTCTATACGG-1  1.214352 -0.056293   \n",
       "\n",
       "                                                           6         7  \\\n",
       "barcode                                                                  \n",
       "HRS118996_AAACCTGAGCGATATA-1                       -1.817345  0.872501   \n",
       "HRS118996_AAACCTGCAAGGTTTC-1                        0.068611  0.172236   \n",
       "HRS118996_AAACCTGCACAGTCGC-1                       -0.157817  0.515419   \n",
       "HRS118996_AAACCTGCATCACCCT-1                        1.893266  1.335566   \n",
       "HRS118996_AAACCTGCATGCATGT-1                       -0.434807  0.019359   \n",
       "...                                                      ...       ...   \n",
       "EMTAB13084_1_WS_SKN_KCL10525741_TTTGTTGGTGTCCGTG-1  0.781047 -0.518363   \n",
       "EMTAB13084_1_WS_SKN_KCL10525741_TTTGTTGGTGTGTGGA-1  0.140877  0.387793   \n",
       "EMTAB13084_1_WS_SKN_KCL10525741_TTTGTTGGTTGCGGAA-1  1.044285  0.098108   \n",
       "EMTAB13084_1_WS_SKN_KCL10525741_TTTGTTGTCGCATTAG-1  0.457041 -2.526819   \n",
       "EMTAB13084_1_WS_SKN_KCL10525741_TTTGTTGTCTATACGG-1  0.702446  1.298267   \n",
       "\n",
       "                                                           8         9  \n",
       "barcode                                                                 \n",
       "HRS118996_AAACCTGAGCGATATA-1                       -0.723841  1.685603  \n",
       "HRS118996_AAACCTGCAAGGTTTC-1                        0.246798 -1.080583  \n",
       "HRS118996_AAACCTGCACAGTCGC-1                       -1.822858  0.013328  \n",
       "HRS118996_AAACCTGCATCACCCT-1                        0.226430 -0.741456  \n",
       "HRS118996_AAACCTGCATGCATGT-1                        0.515292 -0.565891  \n",
       "...                                                      ...       ...  \n",
       "EMTAB13084_1_WS_SKN_KCL10525741_TTTGTTGGTGTCCGTG-1  1.531658  1.582730  \n",
       "EMTAB13084_1_WS_SKN_KCL10525741_TTTGTTGGTGTGTGGA-1  1.111544  1.466529  \n",
       "EMTAB13084_1_WS_SKN_KCL10525741_TTTGTTGGTTGCGGAA-1 -0.661945  1.823321  \n",
       "EMTAB13084_1_WS_SKN_KCL10525741_TTTGTTGTCGCATTAG-1 -0.392004  1.195150  \n",
       "EMTAB13084_1_WS_SKN_KCL10525741_TTTGTTGTCTATACGG-1  2.167846 -0.968613  \n",
       "\n",
       "[900321 rows x 10 columns]"
      ]
     },
     "execution_count": 16,
     "metadata": {},
     "output_type": "execute_result"
    }
   ],
   "source": [
    "import pandas as pd\n",
    "\n",
    "# Access to SCVI-Embeddings\n",
    "scvi_df = pd.DataFrame(\n",
    "    adata.obsm[\"X_scvi_emb\"],\n",
    "    index=adata.obs_names\n",
    ")\n",
    "\n",
    "scvi_df"
   ]
  },
  {
   "cell_type": "code",
   "execution_count": 17,
   "id": "0407e0a3",
   "metadata": {},
   "outputs": [],
   "source": [
    "scvi_df.to_csv(\"scvi_embedding.csv\")"
   ]
  },
  {
   "cell_type": "code",
   "execution_count": null,
   "id": "287ccbc0",
   "metadata": {},
   "outputs": [],
   "source": [
    "import pandas as pd\n",
    "\n",
    "# Extract UMAP from anndata obj\n",
    "umap_df = pd.DataFrame(\n",
    "    adata.obsm[\"X_umap\"],\n",
    "    index=adata.obs_names\n",
    ")\n",
    "umap_df.columns = [\"UMAP_1\", \"UMAP_2\"]\n",
    "\n",
    "# Save\n",
    "umap_df.to_csv(\"umap_coords.csv\")\n"
   ]
  },
  {
   "cell_type": "code",
   "execution_count": 19,
   "id": "d9fe8ad4",
   "metadata": {},
   "outputs": [],
   "source": [
    "import pandas as pd\n",
    "\n",
    "pca_df = pd.DataFrame(\n",
    "    adata.obsm[\"X_pca\"],\n",
    "    index=adata.obs_names\n",
    ")\n",
    "pca_df.to_csv(\"pca_embedding.csv\")\n"
   ]
  }
 ],
 "metadata": {
  "kernelspec": {
   "display_name": "scvi",
   "language": "python",
   "name": "python3"
  },
  "language_info": {
   "codemirror_mode": {
    "name": "ipython",
    "version": 3
   },
   "file_extension": ".py",
   "mimetype": "text/x-python",
   "name": "python",
   "nbconvert_exporter": "python",
   "pygments_lexer": "ipython3",
   "version": "3.11.13"
  }
 },
 "nbformat": 4,
 "nbformat_minor": 5
}
